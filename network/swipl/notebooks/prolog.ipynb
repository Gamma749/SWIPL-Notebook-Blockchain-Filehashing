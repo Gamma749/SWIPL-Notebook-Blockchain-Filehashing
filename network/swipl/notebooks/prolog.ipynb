{
 "cells": [
  {
   "cell_type": "code",
   "execution_count": 13,
   "id": "61e08269",
   "metadata": {},
   "outputs": [
    {
     "name": "stdout",
     "output_type": "stream",
     "text": [
      "SET ENV TIMESTAMPING=1\n",
      "SET ENV BLOCKCHAIN_LOGGING=1\n",
      "SET ENV LOGGING_LEVEL=10"
     ]
    }
   ],
   "source": [
    "%ENV\n",
    "TIMESTAMPING=1\n",
    "BLOCKCHAIN_LOGGING=1\n",
    "LOGGING_LEVEL=10"
   ]
  },
  {
   "cell_type": "code",
   "execution_count": 2,
   "id": "ed70fb2a",
   "metadata": {},
   "outputs": [
    {
     "name": "stdout",
     "output_type": "stream",
     "text": [
      "File: foobar.pl\n",
      "Timestamp: 1638916047564098865\n",
      "Hash: 7d8e47a0445000e3acbd1806184c16f9\n",
      "Domain: swipluser-foobar\n",
      "Iroha Response: COMMITTED"
     ]
    }
   ],
   "source": [
    "%file: foobar.pl\n",
    "\n",
    "man(socrates).\n",
    "man(hayden).\n",
    "mortal(X) :- man(X)."
   ]
  },
  {
   "cell_type": "code",
   "execution_count": 4,
   "id": "9c8152bf",
   "metadata": {},
   "outputs": [
    {
     "name": "stdout",
     "output_type": "stream",
     "text": [
      "true.\n",
      "X = socrates ;\n",
      "X = hayden .\n",
      "false."
     ]
    }
   ],
   "source": [
    "?- mortal(socrates).\n",
    "?- mortal(X).\n",
    "?- mortal(bob)."
   ]
  },
  {
   "cell_type": "code",
   "execution_count": 15,
   "id": "e397e22d-278f-42d3-aa15-3a0764e759b1",
   "metadata": {},
   "outputs": [
    {
     "name": "stdout",
     "output_type": "stream",
     "text": [
      "Hello, World!"
     ]
    }
   ],
   "source": [
    "%python\n",
    "print(\"Hello, World!\")"
   ]
  },
  {
   "cell_type": "markdown",
   "id": "458cd19e-d60a-4f0f-bdb8-4c10bbb347f9",
   "metadata": {
    "tags": []
   },
   "source": [
    "![Image](images/prolog-image.png)"
   ]
  }
 ],
 "metadata": {
  "kernelspec": {
   "display_name": "SWI-Prolog",
   "language": "",
   "name": "swi-kernel"
  },
  "language_info": {
   "mimetype": "text/plain",
   "name": "swipl"
  }
 },
 "nbformat": 4,
 "nbformat_minor": 5
}
